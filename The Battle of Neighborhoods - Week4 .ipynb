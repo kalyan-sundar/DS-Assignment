{
    "cells": [
        {
            "metadata": {
                "collapsed": true
            },
            "cell_type": "markdown",
            "source": "#  Capstone Project - The Battle of Neighborhoods\n\n## TOPIC: Finding best place to start Luxury spa in USA.\n\n<font size=5 >Introduction / Business Problem</font>\n\nOne of the leading multinational Hotel and resort groups in Europe is interested in starting Luxury spa in Unites States of America \nand they would like to analyze the data pertaining to main cities and its localities of the country. The suitable locality can be \nidentified based on the inputs such as Per Capita Income of the Main cities, Density of Population in the city, Population of each \nlocation and Various venues in the location.\n\nAs a data scientist we have to take lot of venues into consideration which can directly or indirectly influence the customers \nat the locality to visit the Luxury spa. \n\nIn this project we will consider various factors such as Travel & Transport, Residence, community, Work and offices, Events, \nFood and recreation, Arts & Entertainment, Shops & Service, College & University, Nightlife Spot and Outdoors & Recreation. \nUltimate aim is to find the suitable locality which will attract more customers and it is highly dependent on the location \nand earning capacity of individuals visiting the location and residing at the vicinity. \n\n<font size=5 >Data Acquisition and Preprocessing </font>\n\nIn this project, I will be using datasets from Wikipedia and Foursquare which will help us to identify the optimal locality \nto start the Luxury spas in the city of USA. \n\n\u2022\tpopulation density and coordinates  : https://en.wikipedia.org/wiki/List_of_United_States_cities_by_population \\n\n\n\u2022\tPer Capita Income :  https://en.wikipedia.org/wiki/List_of_United_States_counties_by_per_capita_income \\n\n\nUsing Four Square API to get the following:\n\n\u2022\tList of all venues in each city \\n\n\n\u2022\tList of all venues in each locality in the selected city\\n\n\nUsing the above data, we will first select best city to proceed with based on the values like Population density, per capita income \nof the state, number of venues (as we are giving weights to each venue based on its category).\n\nThe first stage is to select the city in the USA based on available datasets, then to find the locality in the city which is influenced \nby the events and other above said factors.\n"
        },
        {
            "metadata": {},
            "cell_type": "code",
            "source": "",
            "execution_count": null,
            "outputs": []
        },
        {
            "metadata": {},
            "cell_type": "code",
            "source": "",
            "execution_count": null,
            "outputs": []
        },
        {
            "metadata": {},
            "cell_type": "code",
            "source": "",
            "execution_count": null,
            "outputs": []
        }
    ],
    "metadata": {
        "kernelspec": {
            "name": "python3",
            "display_name": "Python 3.6",
            "language": "python"
        },
        "language_info": {
            "name": "python",
            "version": "3.6.9",
            "mimetype": "text/x-python",
            "codemirror_mode": {
                "name": "ipython",
                "version": 3
            },
            "pygments_lexer": "ipython3",
            "nbconvert_exporter": "python",
            "file_extension": ".py"
        }
    },
    "nbformat": 4,
    "nbformat_minor": 1
}